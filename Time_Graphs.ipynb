{
 "cells": [
  {
   "cell_type": "markdown",
   "id": "4e4737df-8e5f-4715-ad67-fdfdf5711687",
   "metadata": {},
   "source": [
    "# Time series"
   ]
  },
  {
   "cell_type": "markdown",
   "id": "c0e50015-5928-429e-8fd9-ec774fbc4d14",
   "metadata": {},
   "source": [
    "## Import data and libraries"
   ]
  },
  {
   "cell_type": "code",
   "execution_count": 1,
   "id": "69eeb1eb-d196-48bd-8390-2814b5d85c38",
   "metadata": {},
   "outputs": [],
   "source": [
    "import warnings\n",
    "warnings.simplefilter(action='ignore', category=FutureWarning)\n",
    "import pandas as pd\n",
    "import geopandas\n",
    "import numpy as np\n",
    "import matplotlib.pyplot as plt\n",
    "import seaborn as sns"
   ]
  },
  {
   "cell_type": "code",
   "execution_count": 1,
   "id": "22cfc7b9-af89-4938-9e1b-b14d1e215fc0",
   "metadata": {},
   "outputs": [],
   "source": [
    "#evict_hist = pd.read_excel(\"Data/2022_Eviction_Data/DallasCounty_HistoricalEvictionRecords.xlsx\")\n",
    "#evict_hist.head(2)"
   ]
  },
  {
   "cell_type": "code",
   "execution_count": null,
   "id": "8300882b-a013-4a91-8c4a-a841ac3da2ae",
   "metadata": {},
   "outputs": [],
   "source": [
    "evict_hist.columns"
   ]
  },
  {
   "cell_type": "markdown",
   "id": "0dc9f8fd-500e-4d78-9a15-68167fa76dd8",
   "metadata": {},
   "source": [
    "# Remove businesses"
   ]
  },
  {
   "cell_type": "code",
   "execution_count": null,
   "id": "afef0b84-9851-46b0-99c6-5c11c5232d93",
   "metadata": {},
   "outputs": [],
   "source": [
    "def def_names(df):\n",
    "    df['def_business'] = 0\n",
    "        \n",
    "    # Sort out defendent names containing a key word\n",
    "    key_words = [' INC', ' LLC', 'SHOP', ' LLP', 'RESTAURANT', 'PARTNER', 'CORP']\n",
    "    for key in key_words:\n",
    "        df.loc[df['defendant_name'].str.contains(key), 'def_business'] = 1\n",
    "    \n",
    "    return(df)"
   ]
  },
  {
   "cell_type": "code",
   "execution_count": null,
   "id": "d0626282-aefb-4963-99f5-ff964ab0b37b",
   "metadata": {},
   "outputs": [],
   "source": [
    "evict_hist_def_names = def_names(evict_hist)\n",
    "evict_hist_no_bus = evict_hist_def_names[evict_hist_def_names['def_business'] == 0]\n",
    "len(evict_hist_no_bus)"
   ]
  },
  {
   "cell_type": "markdown",
   "id": "17fc94d0-34d0-472d-9941-7d6d31d418ee",
   "metadata": {},
   "source": [
    "# Extract years and months"
   ]
  },
  {
   "cell_type": "code",
   "execution_count": null,
   "id": "c03fa8e5-9940-4354-9bb6-5f0f5a269980",
   "metadata": {},
   "outputs": [],
   "source": [
    "# Extract yr-mo\n",
    "evict_yr_mo = []\n",
    "evict_mo = []\n",
    "for i in evict_hist_no_bus['filed_date'].astype(str):\n",
    "    if len(i.split('-')) > 2:\n",
    "        evict_yr_mo.append(i.split('-')[0] + '-' + i.split('-')[1])\n",
    "        evict_mo.append(i.split('-')[1])\n",
    "    else:\n",
    "        evict_yr_mo.append(i.split('-')[0])\n",
    "        evict_mo.append('Na')"
   ]
  },
  {
   "cell_type": "code",
   "execution_count": null,
   "id": "4c207782-2985-4fce-9c59-be525a3880cf",
   "metadata": {},
   "outputs": [],
   "source": [
    "# Add yr-mo and mo to data frame\n",
    "evict_hist_no_bus['yr_mo'] = evict_yr_mo"
   ]
  },
  {
   "cell_type": "markdown",
   "id": "77a96cbc-9f4b-4397-91eb-2da66681252b",
   "metadata": {},
   "source": [
    "# Find number of evictions over time"
   ]
  },
  {
   "cell_type": "code",
   "execution_count": null,
   "id": "01a47db8-2bb2-4027-ba8f-fc259c8a18b4",
   "metadata": {},
   "outputs": [],
   "source": [
    "# Group by yr_mo\n",
    "evict_hist_yr_mo_group = evict_hist_no_bus.groupby('yr_mo').nunique()\n",
    "evict_hist_yr_mo_group = evict_hist_yr_mo_group.drop(index=['2011-11','NaT'])\n",
    "evict_hist_yr_mo_group['yr_mo_col'] = evict_hist_yr_mo_group.index\n",
    "evict_hist_yr_mo_group.head(3)\n"
   ]
  },
  {
   "cell_type": "code",
   "execution_count": null,
   "id": "51e6b632-aafc-44ea-b33e-ea94c74e5895",
   "metadata": {},
   "outputs": [],
   "source": [
    "# Format yr_mo as number\n",
    "evict_hist_yr_mo_group['yr_mo_col_num'] = evict_hist_yr_mo_group['yr_mo_col'].str.replace('-','').astype(float)"
   ]
  },
  {
   "cell_type": "code",
   "execution_count": null,
   "id": "daa63d0c-9622-4796-86ff-3aed7affa635",
   "metadata": {},
   "outputs": [],
   "source": [
    "# Order months to allow for linear regression\n",
    "evict_hist_yr_mo_group['yr_mo_col_ord'] = range(len(evict_hist_yr_mo_group['yr_mo_col_num']))\n",
    "evict_hist_yr_mo_group['yr_mo_col_ord']"
   ]
  },
  {
   "cell_type": "code",
   "execution_count": null,
   "id": "a43fc352-d613-4f57-b793-035295049c24",
   "metadata": {},
   "outputs": [],
   "source": [
    "# Add variable for month\n",
    "ev_mo = []\n",
    "for i in evict_hist_yr_mo_group['yr_mo_col']:\n",
    "    ev_mo.append(i.split('-')[1])\n",
    "        \n",
    "evict_hist_yr_mo_group['ev_mo'] = ev_mo"
   ]
  },
  {
   "cell_type": "code",
   "execution_count": null,
   "id": "5ab6de21-74c5-4739-9864-d414b01cdd88",
   "metadata": {},
   "outputs": [],
   "source": [
    "# Add variable that denotes if pre/post covid\n",
    "covid_status = []\n",
    "for i in evict_hist_yr_mo_group['yr_mo_col_num']:\n",
    "    if i < 202003:\n",
    "        covid_status.append('Pre-Covid')\n",
    "    else:\n",
    "        covid_status.append('Covid and Post-Covid')\n",
    "        \n",
    "evict_hist_yr_mo_group['covid_status'] = covid_status"
   ]
  },
  {
   "cell_type": "code",
   "execution_count": null,
   "id": "91b5e0ef-0135-4535-bf98-ba1fa82f8b77",
   "metadata": {},
   "outputs": [],
   "source": [
    "plt.style.use('ggplot')\n",
    "fig, ax = plt.subplots(nrows=1, ncols=1, figsize=(15, 5), layout='constrained')\n",
    "\n",
    "# Add scatterplot + legend\n",
    "pre_col = '#315094'\n",
    "post_col = '#346732'\n",
    "cov_colors = {'Pre-Covid': pre_col, 'Covid and Post-Covid': post_col}\n",
    "scatter = sns.scatterplot(data=evict_hist_yr_mo_group, x='yr_mo_col', y='case_number', palette=cov_colors,\n",
    "                          ax=ax, hue='covid_status', s=40).set(title='Number of Evictions by Month and Year', \n",
    "                                           ylabel='Number of Evictions', xlabel='Year-Month');\n",
    "\n",
    "ax.legend(loc=4, ncol=1, title='Covid Status')#, labels=['Pre-Covid', 'Covid and Post-Covid'])\n",
    "\n",
    "# Add annotation by year\n",
    "yr_alpha = 0.2\n",
    "text_y = 4250\n",
    "ax.axvspan('2017-01', '2017-12', color='#B2C2E6', alpha=yr_alpha)\n",
    "ax.annotate('2017', xy =('2017-06', text_y), ha='left')\n",
    "ax.axvspan('2018-01', '2018-12', color='#6686CC', alpha=yr_alpha)\n",
    "ax.annotate('2018', xy =('2018-06', text_y), ha='left')\n",
    "ax.axvspan('2019-01', '2019-12', color='#315094', alpha=yr_alpha)\n",
    "ax.annotate('2019', xy =('2019-06', text_y), ha='left')\n",
    "\n",
    "ax.axvspan('2020-01', '2020-03', color='#315094', alpha=yr_alpha)\n",
    "ax.axvspan('2020-03', '2020-12', color='#BBDEBA', alpha=yr_alpha)\n",
    "\n",
    "ax.annotate('2020', xy =('2020-06', text_y), ha='left')\n",
    "ax.axvspan('2021-01', '2021-12', color='#78BD75', alpha=yr_alpha)\n",
    "ax.annotate('2021', xy =('2021-06', text_y), ha='left')\n",
    "ax.axvspan('2022-01', '2022-06', color='#346732', alpha=yr_alpha)\n",
    "ax.annotate('2022', xy =('2022-03', text_y), ha='left')\n",
    "\n",
    "\n",
    "# Add moratorium to graph\n",
    "mora_color = 'red'\n",
    "ax.axvline('2020-08', color=mora_color, alpha=0.7)\n",
    "ax.axvline('2021-09', color=mora_color, alpha=0.7)\n",
    "ax.annotate('------------Eviction Moratorium------------', xy =('2021-09', text_y-1000), ha='right', color=mora_color)\n",
    "\n",
    "# Add regression plots\n",
    "pol_order=1\n",
    "lin_plot = sns.regplot(x ='yr_mo_col_ord', y ='case_number', order=1, color=pre_col,\n",
    "                       data = evict_hist_yr_mo_group[evict_hist_yr_mo_group['covid_status']=='Pre-Covid'], ax=ax);\n",
    "\n",
    "lin_plot = sns.regplot(x ='yr_mo_col_ord', y ='case_number', order=1, color=post_col,\n",
    "                       data = evict_hist_yr_mo_group[evict_hist_yr_mo_group['covid_status']=='Covid and Post-Covid'], ax=ax).set(title='Number of Evictions by Month and Year', \n",
    "                                           ylabel='Number of Evictions', xlabel='Year-Month');\n",
    "\n",
    "# Label freeze\n",
    "bbox = dict(boxstyle =\"round\", fc =\"0.8\")\n",
    "#arrowprops = dict(\n",
    " #   arrowstyle = \"->\", color='black',\n",
    "  #  connectionstyle = \"angle, angleA = 0, angleB = 90,\\\n",
    "   # rad = 10\")\n",
    "arrowprops=dict(arrowstyle=\"simple\",\n",
    "                            color='red', ec=\"none\",\n",
    "                            connectionstyle=\"angle3,angleA=0,angleB=-90\")\n",
    "ax.annotate('The Great\\nTexas Freeze', xy=('2021-02', 498), xytext=(70, -30), \n",
    "            textcoords='offset points', ha='center', va='bottom',\n",
    "            bbox = bbox, arrowprops = arrowprops)\n",
    "\n",
    "# Adjust x-axis labels\n",
    "ax.set_xticks(range(len(evict_hist_yr_mo_group)));\n",
    "ax.set_xticklabels(evict_hist_yr_mo_group['yr_mo_col']);\n",
    "plt.xticks(rotation=70);\n",
    "\n",
    "plt.savefig('Results/July5.2023/evict.mo.yr.png', dpi=1200)"
   ]
  },
  {
   "cell_type": "markdown",
   "id": "a3e26523-db07-492f-8aa1-93806f1eb3a4",
   "metadata": {},
   "source": [
    "# Graph number of evictions by month, pre- and post-covid"
   ]
  },
  {
   "cell_type": "code",
   "execution_count": null,
   "id": "04423519-6b8e-4e70-a3dd-d4fd034eb22a",
   "metadata": {},
   "outputs": [],
   "source": [
    "# Extract pre and post covid\n",
    "pre_evict_hist_yr_mo_group = evict_hist_yr_mo_group[evict_hist_yr_mo_group['covid_status']=='Pre-Covid']\n",
    "post_evict_hist_yr_mo_group = evict_hist_yr_mo_group[evict_hist_yr_mo_group['covid_status']=='Covid and Post-Covid']"
   ]
  },
  {
   "cell_type": "code",
   "execution_count": null,
   "id": "4a0bb5db-a511-4627-966c-b8b6e7e92851",
   "metadata": {},
   "outputs": [],
   "source": [
    "post_evict_hist_yr_mo_group.columns"
   ]
  },
  {
   "cell_type": "code",
   "execution_count": null,
   "id": "226c56ca-a254-4304-85ee-af75595b6ed6",
   "metadata": {},
   "outputs": [],
   "source": [
    "# Find average by month\n",
    "pre_mo = pre_evict_hist_yr_mo_group.groupby('ev_mo').mean()\n",
    "post_mo = post_evict_hist_yr_mo_group.groupby('ev_mo').mean()\n",
    "\n",
    "# Add column for month\n",
    "pre_mo['mo'] = pre_mo.index\n",
    "post_mo['mo'] = post_mo.index"
   ]
  },
  {
   "cell_type": "code",
   "execution_count": null,
   "id": "ed42b6b8-553b-442d-997c-2dba6fb3de2f",
   "metadata": {},
   "outputs": [],
   "source": [
    "plt.style.use('ggplot')\n",
    "fig, (ax0, ax1) = plt.subplots(nrows=1, ncols=2, figsize=(10, 5), layout='constrained', sharey=True)\n",
    "\n",
    "pre_bar = sns.barplot(data=pre_mo, x='mo', y='case_number', ax=ax0);\n",
    "pre_bar.set_title('Pre-Covid: 2017/01 - 2020/03',fontdict={'color': 'grey'})\n",
    "pre_bar.set_xlabel('Month')\n",
    "pre_bar.set_ylabel('Number of Evictions')\n",
    "post_bar = sns.barplot(data=post_mo, x='mo', y='case_number', ax=ax1);\n",
    "post_bar.set_xlabel('Month')\n",
    "post_bar.set_ylabel('Number of Evictions')\n",
    "post_bar.set_title('Covid and Post-Covid: 2020/03 - 2022/06',fontdict={'color': 'grey'})\n",
    "fig.suptitle('Average Number of Evictions by Month', size=20, ha='center');\n",
    "\n",
    "#plt.savefig('Results/July5.2023/num_evict_mo_bar.png')"
   ]
  },
  {
   "cell_type": "code",
   "execution_count": null,
   "id": "50cd0ff1-ca03-4436-8c2d-99334613c8f3",
   "metadata": {},
   "outputs": [],
   "source": []
  }
 ],
 "metadata": {
  "kernelspec": {
   "display_name": "Python 3 (ipykernel)",
   "language": "python",
   "name": "python3"
  },
  "language_info": {
   "codemirror_mode": {
    "name": "ipython",
    "version": 3
   },
   "file_extension": ".py",
   "mimetype": "text/x-python",
   "name": "python",
   "nbconvert_exporter": "python",
   "pygments_lexer": "ipython3",
   "version": "3.11.3"
  }
 },
 "nbformat": 4,
 "nbformat_minor": 5
}
